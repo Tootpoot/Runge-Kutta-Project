Runge Kutta project
%matplotlib inline
from math import *
import numpy as np
import matplotlib.pyplot as plt

#𝑥¨+2𝜁𝜔𝑛𝑥˙+𝜔2𝑛𝑥=𝐹(𝑡)𝑚
#This zeta is a ratio of C/C(critical), this is value will give us an under damped graph and system
zeta = .2
omega_n= 1
#RK4 constants for classical 
c1 = 1./6
c2 = 2./6
c3 = 2./6
c4 = 1./6
a2 = 1./2
a3 = 1./2
a4 = 1.
b21 = 1./2
b31 = 0
b32 = 1./2
b41 = 0
b42 = 0
b43 = 0

#Creating our variables using lambda functions because they depend on the other variables like t,x and v. 
#F_over_m is set to 0 because we are testing without an external force.
F_over_m = lambda t: t**2
f_x = lambda t,x,v: v                  #this is equation for dx/dt = v t= indep. x = prim. dep. v = dep
f_v = lambda t,x,v: F_over_m(t)-2*zeta*omega_n*v - (omega_n**2)*x    #this is equation for dv/dt = F_over_m(T)-2*gamma*v- k*x
# t = indep, prim. dep = v x is also dep.

#The Runge-Kutta 4th order 
def rk4_x(ti, xi, vi, dt):
    K1 = f_x(ti,xi,vi)
    K2 = f_x(ti+a2*dt,xi+b21*K1*dt,vi)
    K3 = f_x(ti+a3*dt,xi+b31*K1*dt+b32*K2*dt,vi)
    K4 = f_x(ti+a4*dt,xi+b41*K1*dt+b42*K2*dt+b43*K3*dt,vi) 
    xip1 = xi+(c1*K1+c2*K2+c3*K3+c4*K4)*dt
    return xip1

def rk4_v(ti, xi, vi, dt):
    K1 = f_v(ti,xi,vi)
    K2 = f_v(ti+a2*dt,xi,vi+b21*K1*dt)
    K3 = f_v(ti+a3*dt,xi,vi+b31*K1*dt+b32*K2*dt)
    K4 = f_x(ti+a4*dt,xi,vi+b41*K1*dt+b42*K2*dt+b43*K3*dt)
    vip1 = vi+(c1*K1+c2*K2+c3*K3+c4*K4)*dt
    return vip1

ti = 0.0    #initial value for t
tf = 40    #final value for t
n = 4000 #number of segments
dt = (tf-ti)/n   #step size
t = np.zeros(n+1)
x = np.zeros(n+1)
v = np.zeros(n+1)
x_iv = 1.0 #m
v_iv = 0.0 #m/s
t[0] = ti      #initial condition
x[0] = x_iv
v[0] = v_iv

for i in range(1,n+1):
    t[i] = ti + i*dt
    x[i] = rk4_x(t[i-1],x[i-1],v[i-1],dt)
    v[i] = rk4_v(t[i-1],x[i-1],v[i-1],dt)

    
fig = plt.figure(figsize=(8,9))
ax1 = plt.subplot(211)
#plt.title("x versus t and v versus t")
plt.plot(t,x,label="x vs. t",color="b",linewidth="2.0")
plt.xlabel("t (s)")
plt.ylabel("x (m)")
plt.title("Displacement For Under Damped System")

ax2 = plt.subplot(212,sharex=ax1)
plt.plot(t,v,label="v vs. t",color="b",linewidth="2.0")
plt.xlabel("t (s)")
plt.ylabel("v (m/s)")
plt.title("Velocity for Under Damped System")

plt.tight_layout()
plt.show()
